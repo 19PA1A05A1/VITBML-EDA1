{
  "nbformat": 4,
  "nbformat_minor": 0,
  "metadata": {
    "colab": {
      "name": "Exploratory Data Analysis.ipynb",
      "provenance": [],
      "collapsed_sections": [],
      "authorship_tag": "ABX9TyPL6FjhzS4rBPJE9fgq2ubp",
      "include_colab_link": true
    },
    "kernelspec": {
      "name": "python3",
      "display_name": "Python 3"
    }
  },
  "cells": [
    {
      "cell_type": "markdown",
      "metadata": {
        "id": "view-in-github",
        "colab_type": "text"
      },
      "source": [
        "<a href=\"https://colab.research.google.com/github/19PA1A05A1/VITBML-EDA1/blob/master/Exploratory_Data_Analysis.ipynb\" target=\"_parent\"><img src=\"https://colab.research.google.com/assets/colab-badge.svg\" alt=\"Open In Colab\"/></a>"
      ]
    },
    {
      "cell_type": "code",
      "metadata": {
        "id": "2WmBsqi0g8vV",
        "colab_type": "code",
        "colab": {}
      },
      "source": [
        "import numpy as np\n",
        "import pandas as pd\n",
        "import matplotlib.pyplot as plt\n",
        "import seaborn as sns"
      ],
      "execution_count": 0,
      "outputs": []
    },
    {
      "cell_type": "code",
      "metadata": {
        "id": "Ky659r6Xhwox",
        "colab_type": "code",
        "outputId": "ede31aa4-7080-4e75-ed4b-24d14599079d",
        "colab": {
          "base_uri": "https://localhost:8080/",
          "height": 439
        }
      },
      "source": [
        "nse=pd.read_csv('FINAL_FROM_DF.csv')\n",
        "nse"
      ],
      "execution_count": 200,
      "outputs": [
        {
          "output_type": "execute_result",
          "data": {
            "text/html": [
              "<div>\n",
              "<style scoped>\n",
              "    .dataframe tbody tr th:only-of-type {\n",
              "        vertical-align: middle;\n",
              "    }\n",
              "\n",
              "    .dataframe tbody tr th {\n",
              "        vertical-align: top;\n",
              "    }\n",
              "\n",
              "    .dataframe thead th {\n",
              "        text-align: right;\n",
              "    }\n",
              "</style>\n",
              "<table border=\"1\" class=\"dataframe\">\n",
              "  <thead>\n",
              "    <tr style=\"text-align: right;\">\n",
              "      <th></th>\n",
              "      <th>SYMBOL</th>\n",
              "      <th>SERIES</th>\n",
              "      <th>OPEN</th>\n",
              "      <th>HIGH</th>\n",
              "      <th>LOW</th>\n",
              "      <th>CLOSE</th>\n",
              "      <th>LAST</th>\n",
              "      <th>PREVCLOSE</th>\n",
              "      <th>TOTTRDQTY</th>\n",
              "      <th>TOTTRDVAL</th>\n",
              "      <th>TIMESTAMP</th>\n",
              "      <th>TOTALTRADES</th>\n",
              "      <th>ISIN</th>\n",
              "    </tr>\n",
              "  </thead>\n",
              "  <tbody>\n",
              "    <tr>\n",
              "      <th>0</th>\n",
              "      <td>20MICRONS</td>\n",
              "      <td>EQ</td>\n",
              "      <td>37.80</td>\n",
              "      <td>37.80</td>\n",
              "      <td>36.15</td>\n",
              "      <td>36.85</td>\n",
              "      <td>37.40</td>\n",
              "      <td>37.05</td>\n",
              "      <td>27130</td>\n",
              "      <td>994657.90</td>\n",
              "      <td>2017-06-28</td>\n",
              "      <td>202</td>\n",
              "      <td>INE144J01027</td>\n",
              "    </tr>\n",
              "    <tr>\n",
              "      <th>1</th>\n",
              "      <td>3IINFOTECH</td>\n",
              "      <td>EQ</td>\n",
              "      <td>4.10</td>\n",
              "      <td>4.85</td>\n",
              "      <td>4.00</td>\n",
              "      <td>4.55</td>\n",
              "      <td>4.65</td>\n",
              "      <td>4.05</td>\n",
              "      <td>20157058</td>\n",
              "      <td>92148517.65</td>\n",
              "      <td>2017-06-28</td>\n",
              "      <td>7353</td>\n",
              "      <td>INE748C01020</td>\n",
              "    </tr>\n",
              "    <tr>\n",
              "      <th>2</th>\n",
              "      <td>3MINDIA</td>\n",
              "      <td>EQ</td>\n",
              "      <td>13425.15</td>\n",
              "      <td>13469.55</td>\n",
              "      <td>12920.00</td>\n",
              "      <td>13266.70</td>\n",
              "      <td>13300.00</td>\n",
              "      <td>13460.55</td>\n",
              "      <td>2290</td>\n",
              "      <td>30304923.35</td>\n",
              "      <td>2017-06-28</td>\n",
              "      <td>748</td>\n",
              "      <td>INE470A01017</td>\n",
              "    </tr>\n",
              "    <tr>\n",
              "      <th>3</th>\n",
              "      <td>63MOONS</td>\n",
              "      <td>EQ</td>\n",
              "      <td>61.00</td>\n",
              "      <td>61.90</td>\n",
              "      <td>60.35</td>\n",
              "      <td>61.00</td>\n",
              "      <td>61.10</td>\n",
              "      <td>60.65</td>\n",
              "      <td>27701</td>\n",
              "      <td>1689421.00</td>\n",
              "      <td>2017-06-28</td>\n",
              "      <td>437</td>\n",
              "      <td>INE111B01023</td>\n",
              "    </tr>\n",
              "    <tr>\n",
              "      <th>4</th>\n",
              "      <td>8KMILES</td>\n",
              "      <td>EQ</td>\n",
              "      <td>546.10</td>\n",
              "      <td>548.00</td>\n",
              "      <td>535.00</td>\n",
              "      <td>537.45</td>\n",
              "      <td>535.20</td>\n",
              "      <td>547.45</td>\n",
              "      <td>79722</td>\n",
              "      <td>43208620.05</td>\n",
              "      <td>2017-06-28</td>\n",
              "      <td>1866</td>\n",
              "      <td>INE650K01021</td>\n",
              "    </tr>\n",
              "    <tr>\n",
              "      <th>...</th>\n",
              "      <td>...</td>\n",
              "      <td>...</td>\n",
              "      <td>...</td>\n",
              "      <td>...</td>\n",
              "      <td>...</td>\n",
              "      <td>...</td>\n",
              "      <td>...</td>\n",
              "      <td>...</td>\n",
              "      <td>...</td>\n",
              "      <td>...</td>\n",
              "      <td>...</td>\n",
              "      <td>...</td>\n",
              "      <td>...</td>\n",
              "    </tr>\n",
              "    <tr>\n",
              "      <th>846399</th>\n",
              "      <td>ZOTA</td>\n",
              "      <td>SM</td>\n",
              "      <td>221.00</td>\n",
              "      <td>221.00</td>\n",
              "      <td>214.00</td>\n",
              "      <td>217.00</td>\n",
              "      <td>217.00</td>\n",
              "      <td>220.00</td>\n",
              "      <td>14000</td>\n",
              "      <td>3041550.00</td>\n",
              "      <td>2017-12-29</td>\n",
              "      <td>14</td>\n",
              "      <td>INE358U01012</td>\n",
              "    </tr>\n",
              "    <tr>\n",
              "      <th>846400</th>\n",
              "      <td>ZUARI</td>\n",
              "      <td>EQ</td>\n",
              "      <td>562.00</td>\n",
              "      <td>562.00</td>\n",
              "      <td>549.55</td>\n",
              "      <td>550.80</td>\n",
              "      <td>552.00</td>\n",
              "      <td>556.80</td>\n",
              "      <td>105184</td>\n",
              "      <td>58163061.60</td>\n",
              "      <td>2017-12-29</td>\n",
              "      <td>2218</td>\n",
              "      <td>INE840M01016</td>\n",
              "    </tr>\n",
              "    <tr>\n",
              "      <th>846401</th>\n",
              "      <td>ZUARIGLOB</td>\n",
              "      <td>EQ</td>\n",
              "      <td>255.50</td>\n",
              "      <td>258.40</td>\n",
              "      <td>252.50</td>\n",
              "      <td>253.25</td>\n",
              "      <td>253.00</td>\n",
              "      <td>254.10</td>\n",
              "      <td>90067</td>\n",
              "      <td>22968100.60</td>\n",
              "      <td>2017-12-29</td>\n",
              "      <td>2001</td>\n",
              "      <td>INE217A01012</td>\n",
              "    </tr>\n",
              "    <tr>\n",
              "      <th>846402</th>\n",
              "      <td>ZYDUSWELL</td>\n",
              "      <td>EQ</td>\n",
              "      <td>1038.00</td>\n",
              "      <td>1068.00</td>\n",
              "      <td>1033.00</td>\n",
              "      <td>1043.20</td>\n",
              "      <td>1035.00</td>\n",
              "      <td>1023.10</td>\n",
              "      <td>28601</td>\n",
              "      <td>29938840.10</td>\n",
              "      <td>2017-12-29</td>\n",
              "      <td>1401</td>\n",
              "      <td>INE768C01010</td>\n",
              "    </tr>\n",
              "    <tr>\n",
              "      <th>846403</th>\n",
              "      <td>ZYLOG</td>\n",
              "      <td>EQ</td>\n",
              "      <td>4.30</td>\n",
              "      <td>5.15</td>\n",
              "      <td>4.30</td>\n",
              "      <td>4.65</td>\n",
              "      <td>4.60</td>\n",
              "      <td>4.40</td>\n",
              "      <td>732051</td>\n",
              "      <td>3495213.70</td>\n",
              "      <td>2017-12-29</td>\n",
              "      <td>845</td>\n",
              "      <td>INE225I01026</td>\n",
              "    </tr>\n",
              "  </tbody>\n",
              "</table>\n",
              "<p>846404 rows × 13 columns</p>\n",
              "</div>"
            ],
            "text/plain": [
              "            SYMBOL SERIES      OPEN  ...   TIMESTAMP  TOTALTRADES          ISIN\n",
              "0        20MICRONS     EQ     37.80  ...  2017-06-28          202  INE144J01027\n",
              "1       3IINFOTECH     EQ      4.10  ...  2017-06-28         7353  INE748C01020\n",
              "2          3MINDIA     EQ  13425.15  ...  2017-06-28          748  INE470A01017\n",
              "3          63MOONS     EQ     61.00  ...  2017-06-28          437  INE111B01023\n",
              "4          8KMILES     EQ    546.10  ...  2017-06-28         1866  INE650K01021\n",
              "...            ...    ...       ...  ...         ...          ...           ...\n",
              "846399        ZOTA     SM    221.00  ...  2017-12-29           14  INE358U01012\n",
              "846400       ZUARI     EQ    562.00  ...  2017-12-29         2218  INE840M01016\n",
              "846401   ZUARIGLOB     EQ    255.50  ...  2017-12-29         2001  INE217A01012\n",
              "846402   ZYDUSWELL     EQ   1038.00  ...  2017-12-29         1401  INE768C01010\n",
              "846403       ZYLOG     EQ      4.30  ...  2017-12-29          845  INE225I01026\n",
              "\n",
              "[846404 rows x 13 columns]"
            ]
          },
          "metadata": {
            "tags": []
          },
          "execution_count": 200
        }
      ]
    },
    {
      "cell_type": "markdown",
      "metadata": {
        "id": "2dQd-wmDugEI",
        "colab_type": "text"
      },
      "source": [
        "# DESCRIPTION\n",
        "\n",
        "---\n",
        "\n"
      ]
    },
    {
      "cell_type": "markdown",
      "metadata": {
        "id": "fdVi44Pnlp_T",
        "colab_type": "text"
      },
      "source": [
        "# **NSE STOCKS DATA DURING 2016 AND 2017**\n",
        "The data is about the NSE Stocks during the years 2016 and 2017.It includes the NSE stocks data of numerous firms with opening,closing values of the day and traded quantity as well.  \n",
        "Daily data of National Stock Exchange of India for all series.\n",
        "\n",
        "A brief description of columns.\n",
        "\n",
        "SYMBOL: Symbol of the listed company.\n",
        "\n",
        "SERIES: Series of the equity. Values are [EQ, BE, BL, BT, GC and IL]\n",
        "\n",
        "OPEN: The opening market price of the equity symbol on the date.\n",
        "\n",
        "HIGH: The highest market price of the equity symbol on the date.\n",
        "\n",
        "LOW: The lowest recorded market price of the equity symbol on the date.\n",
        "\n",
        "CLOSE: The closing recorded price of the equity symbol on the date.\n",
        "\n",
        "LAST: The last traded price of the equity symbol on the date.\n",
        "\n",
        "PREVCLOSE: The previous day closing price of the equity symbol on the date.\n",
        "\n",
        "TOTTRDQTY: Total traded quantity of the equity symbol on the date.\n",
        "\n",
        "TOTTRDVAL: Total traded volume of the equity symbol on the date.\n",
        "\n",
        "TIMESTAMP: Date of record.\n",
        "\n",
        "TOTALTRADES: Total trades executed on the day.\n",
        "\n",
        "ISIN: International Securities \n",
        "Identification Number.\n",
        "\n"
      ]
    },
    {
      "cell_type": "code",
      "metadata": {
        "id": "EXkZ5fZIi0-h",
        "colab_type": "code",
        "outputId": "9e850345-7d0b-439c-9846-1ae00220914f",
        "colab": {
          "base_uri": "https://localhost:8080/",
          "height": 34
        }
      },
      "source": [
        "nse.shape"
      ],
      "execution_count": 45,
      "outputs": [
        {
          "output_type": "execute_result",
          "data": {
            "text/plain": [
              "(846404, 13)"
            ]
          },
          "metadata": {
            "tags": []
          },
          "execution_count": 45
        }
      ]
    },
    {
      "cell_type": "code",
      "metadata": {
        "id": "KO9AeZbOjONd",
        "colab_type": "code",
        "outputId": "aca8a221-703a-4079-95ff-268eee3a0f24",
        "colab": {
          "base_uri": "https://localhost:8080/",
          "height": 34
        }
      },
      "source": [
        "nse.size"
      ],
      "execution_count": 46,
      "outputs": [
        {
          "output_type": "execute_result",
          "data": {
            "text/plain": [
              "11003252"
            ]
          },
          "metadata": {
            "tags": []
          },
          "execution_count": 46
        }
      ]
    },
    {
      "cell_type": "code",
      "metadata": {
        "id": "kVYl0Xy8ldJg",
        "colab_type": "code",
        "outputId": "c33d1f74-aa87-4f1f-f6d5-52aa87561698",
        "colab": {
          "base_uri": "https://localhost:8080/",
          "height": 102
        }
      },
      "source": [
        "nse.columns"
      ],
      "execution_count": 47,
      "outputs": [
        {
          "output_type": "execute_result",
          "data": {
            "text/plain": [
              "Index(['SYMBOL', 'SERIES', 'OPEN', 'HIGH', 'LOW', 'CLOSE', 'LAST', 'PREVCLOSE',\n",
              "       'TOTTRDQTY', 'TOTTRDVAL', 'TIMESTAMP', 'TOTALTRADES', 'ISIN'],\n",
              "      dtype='object')"
            ]
          },
          "metadata": {
            "tags": []
          },
          "execution_count": 47
        }
      ]
    },
    {
      "cell_type": "markdown",
      "metadata": {
        "id": "vdFTbac4m0f4",
        "colab_type": "text"
      },
      "source": [
        "**QUESTIONS** \n",
        "\n",
        "\n",
        "---\n",
        "\n",
        "\n",
        "\n",
        "\n",
        "1. What are the different symbols present in the data?\n",
        "\n",
        "2.   What is the highest trading quantity of a day in the data?\n",
        "\n",
        "2.   Which company symbol has the least high value in the data ?\n",
        "\n",
        "1.   How many types of values of equity series are there in the data?\n",
        "\n",
        "2.   Find the number of each type of equity series? \n",
        "\n",
        "1.   What is the highest high market price and which company achieved it? \n",
        "\n",
        "2.   What is the ISIN codes coresponding to the company having symbol \n",
        "'BANKINDIA'?\n",
        "\n",
        "1.   What is the highest closing market price of date 2017-11-28?\n",
        "\n",
        "1.  Which company has achieved the highest opening price on the date of 2017-6-28?\n",
        "\n",
        "1. Get the whole stock data of a company in the data and draw scatter plot for open and close prices.    \n",
        "\n",
        "\n",
        "\n",
        "\n",
        "\n",
        "\n",
        "\n",
        "\n",
        "\n",
        "\n",
        "\n",
        "\n",
        "\n",
        "\n",
        "\n",
        "\n",
        "\n",
        "\n",
        "\n",
        "\n"
      ]
    },
    {
      "cell_type": "markdown",
      "metadata": {
        "id": "5H5ZoX7F18ft",
        "colab_type": "text"
      },
      "source": [
        "# **PRELIMINARY ANALYSIS**\n",
        "\n",
        "\n",
        "\n",
        "\n",
        "\n",
        "\n",
        "---\n",
        "\n",
        "\n"
      ]
    },
    {
      "cell_type": "markdown",
      "metadata": {
        "id": "jDjrvcBMQD42",
        "colab_type": "text"
      },
      "source": [
        "# *FINDING THE DATA TYPE OF EACH COLUMN*"
      ]
    },
    {
      "cell_type": "code",
      "metadata": {
        "id": "Y3cLG47y1gGV",
        "colab_type": "code",
        "outputId": "be0eb755-d469-4394-a8e5-36f2ab5260a7",
        "colab": {
          "base_uri": "https://localhost:8080/",
          "height": 255
        }
      },
      "source": [
        "nse.dtypes\n",
        "#prints the datatype of each column in a series"
      ],
      "execution_count": 48,
      "outputs": [
        {
          "output_type": "execute_result",
          "data": {
            "text/plain": [
              "SYMBOL          object\n",
              "SERIES          object\n",
              "OPEN           float64\n",
              "HIGH           float64\n",
              "LOW            float64\n",
              "CLOSE          float64\n",
              "LAST           float64\n",
              "PREVCLOSE      float64\n",
              "TOTTRDQTY        int64\n",
              "TOTTRDVAL      float64\n",
              "TIMESTAMP       object\n",
              "TOTALTRADES      int64\n",
              "ISIN            object\n",
              "dtype: object"
            ]
          },
          "metadata": {
            "tags": []
          },
          "execution_count": 48
        }
      ]
    },
    {
      "cell_type": "markdown",
      "metadata": {
        "id": "RyjnOi8x37w-",
        "colab_type": "text"
      },
      "source": [
        "\n",
        "\n",
        "\n",
        "#   *CENTRAL TENDENCY OF THE DATA*\n",
        "\n",
        "    \n",
        "*   Here,Median is the appropriate central tendency measure,\n",
        "  since there are outliers mean is effected.\n",
        "\n",
        "\n",
        "\n",
        "\n",
        "\n",
        "\n",
        "\n",
        "\n",
        "\n",
        "\n"
      ]
    },
    {
      "cell_type": "code",
      "metadata": {
        "id": "fYKH6ft78Nhs",
        "colab_type": "code",
        "outputId": "e8c91786-7cc5-43d8-c0ed-e89aa2d155ed",
        "colab": {
          "base_uri": "https://localhost:8080/",
          "height": 297
        }
      },
      "source": [
        "nse.describe()\n",
        "#prints the mean,maximum,minimum,standard deviation of each column"
      ],
      "execution_count": 145,
      "outputs": [
        {
          "output_type": "execute_result",
          "data": {
            "text/html": [
              "<div>\n",
              "<style scoped>\n",
              "    .dataframe tbody tr th:only-of-type {\n",
              "        vertical-align: middle;\n",
              "    }\n",
              "\n",
              "    .dataframe tbody tr th {\n",
              "        vertical-align: top;\n",
              "    }\n",
              "\n",
              "    .dataframe thead th {\n",
              "        text-align: right;\n",
              "    }\n",
              "</style>\n",
              "<table border=\"1\" class=\"dataframe\">\n",
              "  <thead>\n",
              "    <tr style=\"text-align: right;\">\n",
              "      <th></th>\n",
              "      <th>OPEN</th>\n",
              "      <th>HIGH</th>\n",
              "      <th>LOW</th>\n",
              "      <th>CLOSE</th>\n",
              "      <th>LAST</th>\n",
              "      <th>PREVCLOSE</th>\n",
              "      <th>TOTTRDQTY</th>\n",
              "      <th>TOTTRDVAL</th>\n",
              "      <th>TOTALTRADES</th>\n",
              "    </tr>\n",
              "  </thead>\n",
              "  <tbody>\n",
              "    <tr>\n",
              "      <th>count</th>\n",
              "      <td>846404.000000</td>\n",
              "      <td>846404.000000</td>\n",
              "      <td>846404.000000</td>\n",
              "      <td>846404.000000</td>\n",
              "      <td>846404.000000</td>\n",
              "      <td>846404.000000</td>\n",
              "      <td>8.464040e+05</td>\n",
              "      <td>8.464040e+05</td>\n",
              "      <td>8.464040e+05</td>\n",
              "    </tr>\n",
              "    <tr>\n",
              "      <th>mean</th>\n",
              "      <td>561.258797</td>\n",
              "      <td>568.679340</td>\n",
              "      <td>553.861861</td>\n",
              "      <td>560.815168</td>\n",
              "      <td>560.184430</td>\n",
              "      <td>560.225320</td>\n",
              "      <td>6.983800e+05</td>\n",
              "      <td>1.334592e+08</td>\n",
              "      <td>5.013823e+03</td>\n",
              "    </tr>\n",
              "    <tr>\n",
              "      <th>std</th>\n",
              "      <td>2005.760598</td>\n",
              "      <td>2027.159199</td>\n",
              "      <td>1983.412783</td>\n",
              "      <td>2004.576315</td>\n",
              "      <td>2003.900793</td>\n",
              "      <td>2000.362761</td>\n",
              "      <td>4.055630e+06</td>\n",
              "      <td>6.296968e+08</td>\n",
              "      <td>1.490112e+04</td>\n",
              "    </tr>\n",
              "    <tr>\n",
              "      <th>min</th>\n",
              "      <td>0.050000</td>\n",
              "      <td>0.050000</td>\n",
              "      <td>0.050000</td>\n",
              "      <td>0.050000</td>\n",
              "      <td>0.000000</td>\n",
              "      <td>0.050000</td>\n",
              "      <td>1.000000e+00</td>\n",
              "      <td>5.000000e-02</td>\n",
              "      <td>1.000000e+00</td>\n",
              "    </tr>\n",
              "    <tr>\n",
              "      <th>25%</th>\n",
              "      <td>39.900000</td>\n",
              "      <td>40.850000</td>\n",
              "      <td>38.850000</td>\n",
              "      <td>39.750000</td>\n",
              "      <td>39.600000</td>\n",
              "      <td>39.700000</td>\n",
              "      <td>6.628000e+03</td>\n",
              "      <td>6.071941e+05</td>\n",
              "      <td>8.400000e+01</td>\n",
              "    </tr>\n",
              "    <tr>\n",
              "      <th>50%</th>\n",
              "      <td>139.200000</td>\n",
              "      <td>142.050000</td>\n",
              "      <td>136.150000</td>\n",
              "      <td>138.900000</td>\n",
              "      <td>138.450000</td>\n",
              "      <td>138.750000</td>\n",
              "      <td>4.429200e+04</td>\n",
              "      <td>5.321067e+06</td>\n",
              "      <td>6.000000e+02</td>\n",
              "    </tr>\n",
              "    <tr>\n",
              "      <th>75%</th>\n",
              "      <td>490.000000</td>\n",
              "      <td>499.550000</td>\n",
              "      <td>481.100000</td>\n",
              "      <td>489.550000</td>\n",
              "      <td>488.500000</td>\n",
              "      <td>489.150000</td>\n",
              "      <td>2.757322e+05</td>\n",
              "      <td>3.711093e+07</td>\n",
              "      <td>3.028000e+03</td>\n",
              "    </tr>\n",
              "    <tr>\n",
              "      <th>max</th>\n",
              "      <td>119990.000000</td>\n",
              "      <td>119990.000000</td>\n",
              "      <td>119990.000000</td>\n",
              "      <td>119990.000000</td>\n",
              "      <td>119990.000000</td>\n",
              "      <td>119990.000000</td>\n",
              "      <td>7.818365e+08</td>\n",
              "      <td>1.426400e+11</td>\n",
              "      <td>1.192900e+06</td>\n",
              "    </tr>\n",
              "  </tbody>\n",
              "</table>\n",
              "</div>"
            ],
            "text/plain": [
              "                OPEN           HIGH  ...     TOTTRDVAL   TOTALTRADES\n",
              "count  846404.000000  846404.000000  ...  8.464040e+05  8.464040e+05\n",
              "mean      561.258797     568.679340  ...  1.334592e+08  5.013823e+03\n",
              "std      2005.760598    2027.159199  ...  6.296968e+08  1.490112e+04\n",
              "min         0.050000       0.050000  ...  5.000000e-02  1.000000e+00\n",
              "25%        39.900000      40.850000  ...  6.071941e+05  8.400000e+01\n",
              "50%       139.200000     142.050000  ...  5.321067e+06  6.000000e+02\n",
              "75%       490.000000     499.550000  ...  3.711093e+07  3.028000e+03\n",
              "max    119990.000000  119990.000000  ...  1.426400e+11  1.192900e+06\n",
              "\n",
              "[8 rows x 9 columns]"
            ]
          },
          "metadata": {
            "tags": []
          },
          "execution_count": 145
        }
      ]
    },
    {
      "cell_type": "code",
      "metadata": {
        "id": "SmeT6f2y1lCH",
        "colab_type": "code",
        "outputId": "48429320-db9e-48ef-9b9e-74402de209e9",
        "colab": {
          "base_uri": "https://localhost:8080/",
          "height": 85
        }
      },
      "source": [
        "\n",
        "print(nse['OPEN'].median())\n",
        "print(nse['CLOSE'].median())\n",
        "#prints the mean of the column given\n",
        "print(nse['LOW'].median())\n",
        "print(nse['HIGH'].median())\n",
        "#prints the median of the column given"
      ],
      "execution_count": 50,
      "outputs": [
        {
          "output_type": "stream",
          "text": [
            "139.2\n",
            "138.9\n",
            "136.15\n",
            "142.05\n"
          ],
          "name": "stdout"
        }
      ]
    },
    {
      "cell_type": "markdown",
      "metadata": {
        "id": "C8mohJb1374b",
        "colab_type": "text"
      },
      "source": [
        "## VARIABILITY OF THE DATA\n",
        "\n"
      ]
    },
    {
      "cell_type": "code",
      "metadata": {
        "id": "dyWo10-i35Bm",
        "colab_type": "code",
        "outputId": "e347db48-4ca0-4215-ee75-c1b7d2db0887",
        "colab": {
          "base_uri": "https://localhost:8080/",
          "height": 85
        }
      },
      "source": [
        "print(nse['OPEN'].var())\n",
        "print(nse['CLOSE'].var())\n",
        "print(nse['LOW'].var())\n",
        "print(nse['HIGH'].var())\n",
        "#prints the variance of the column given"
      ],
      "execution_count": 51,
      "outputs": [
        {
          "output_type": "stream",
          "text": [
            "4023075.575849142\n",
            "4018326.2008882384\n",
            "3933926.269734124\n",
            "4109374.4177346923\n"
          ],
          "name": "stdout"
        }
      ]
    },
    {
      "cell_type": "markdown",
      "metadata": {
        "id": "RlIzFf3OtpkM",
        "colab_type": "text"
      },
      "source": [
        "# FINDING OUTLIERS IN THE DATA"
      ]
    },
    {
      "cell_type": "code",
      "metadata": {
        "id": "6TIgNKlquNae",
        "colab_type": "code",
        "colab": {
          "base_uri": "https://localhost:8080/",
          "height": 296
        },
        "outputId": "8c3e4ccb-5aa1-4229-960d-42d611b2555a"
      },
      "source": [
        "sns.boxplot(nse['OPEN'])"
      ],
      "execution_count": 214,
      "outputs": [
        {
          "output_type": "execute_result",
          "data": {
            "text/plain": [
              "<matplotlib.axes._subplots.AxesSubplot at 0x7f275d002390>"
            ]
          },
          "metadata": {
            "tags": []
          },
          "execution_count": 214
        },
        {
          "output_type": "display_data",
          "data": {
            "image/png": "[encoded data removed]",
            "text/plain": [
              "<Figure size 432x288 with 1 Axes>"
            ]
          },
          "metadata": {
            "tags": []
          }
        }
      ]
    },
    {
      "cell_type": "markdown",
      "metadata": {
        "id": "egD9bm71Jf2m",
        "colab_type": "text"
      },
      "source": [
        "# FINDING NULL VALUES AND REPLACING THEM\n",
        "\n",
        "\n",
        "\n",
        "\n"
      ]
    },
    {
      "cell_type": "code",
      "metadata": {
        "id": "oLxESpzrH6DD",
        "colab_type": "code",
        "outputId": "c0b2095d-0b20-496a-d1ab-5fd8a378b688",
        "colab": {
          "base_uri": "https://localhost:8080/",
          "height": 119
        }
      },
      "source": [
        "print(nse['SERIES'].isna().sum())\n",
        "print(nse['SERIES'].value_counts().index[0])\n",
        "nse['SERIES'].fillna(nse['SERIES'].value_counts().index[0],inplace=True)\n",
        "print(nse['SERIES'].isna().sum())"
      ],
      "execution_count": 100,
      "outputs": [
        {
          "output_type": "stream",
          "text": [
            "2457\n",
            "EQ\n",
            "0\n"
          ],
          "name": "stdout"
        }
      ]
    },
    {
      "cell_type": "markdown",
      "metadata": {
        "id": "FHTD4EAEz1PS",
        "colab_type": "text"
      },
      "source": [
        "# **DATA VISUALISATION**\n",
        "\n",
        "---\n"
      ]
    },
    {
      "cell_type": "markdown",
      "metadata": {
        "id": "6VjvGxZpEmmG",
        "colab_type": "text"
      },
      "source": [
        "# LINE PLOT COMPARING OPEN ,CLOSE,HIGH,LOW MARKET PRICES OF DIFERENT FIRMS"
      ]
    },
    {
      "cell_type": "code",
      "metadata": {
        "id": "DPStjPZ8xg3A",
        "colab_type": "code",
        "colab": {
          "base_uri": "https://localhost:8080/",
          "height": 312
        },
        "outputId": "abd9da0f-e563-4380-bf67-f18d16b9d31a"
      },
      "source": [
        "plt.plot(nse1['SYMBOL'],nse1['OPEN'],label='opening price',color='blue')#plots a line graph between two given parameters\n",
        "plt.plot(nse1['SYMBOL'],nse1['CLOSE'],label='closing price',color='green')\n",
        "plt.plot(nse1['SYMBOL'],nse1['HIGH'],label='high price',color='red')\n",
        "plt.plot(nse1['SYMBOL'],nse1['LOW'],label='high price',color='cyan')\n",
        "plt.title(\"LINE PLOT OF OPEN,CLOSE,HIGH,LOW PRICES OF FIVE COMPANIES\") \n",
        "plt.xlabel('COMPANY SYMBOLS')#labels variable on the x-axis.\n",
        "plt.ylabel('PRICE VALUE')#labels variable on y-axis.\n",
        "plt.legend()#shows the legend at the top indicating the lines in the graph. "
      ],
      "execution_count": 195,
      "outputs": [
        {
          "output_type": "execute_result",
          "data": {
            "text/plain": [
              "<matplotlib.legend.Legend at 0x7f274a7e7898>"
            ]
          },
          "metadata": {
            "tags": []
          },
          "execution_count": 195
        },
        {
          "output_type": "display_data",
          "data": {
            "image/png": "[encoded data removed]",
            "text/plain": [
              "<Figure size 432x288 with 1 Axes>"
            ]
          },
          "metadata": {
            "tags": []
          }
        }
      ]
    },
    {
      "cell_type": "markdown",
      "metadata": {
        "id": "FxIHXz6z0FFm",
        "colab_type": "text"
      },
      "source": [
        "\n",
        "**LOGICAL UNDERSTANDING**\n",
        "*   From the above line plot , we can conclude that 3MINDIA is a high value company.\n",
        "\n",
        "\n",
        "*   Its an outlier\n",
        "\n",
        "\n",
        "*   All the companies have their opening ,closing values nearer that is they don't differ by huge values\n",
        "*   List item\n",
        "\n",
        "\n",
        "\n",
        "---\n",
        "\n",
        "\n",
        "\n",
        "\n",
        "\n",
        "\n",
        "\n"
      ]
    },
    {
      "cell_type": "markdown",
      "metadata": {
        "id": "EBNQzzu-EWzk",
        "colab_type": "text"
      },
      "source": [
        "# LINE PLOT\n",
        "## DESCRIBING THE CORRELATION BETWEEN VARIABLES"
      ]
    },
    {
      "cell_type": "code",
      "metadata": {
        "id": "Thl_BpiGAkUJ",
        "colab_type": "code",
        "outputId": "4d683e6b-0220-45ac-9d86-877fdb35cbb6",
        "colab": {
          "base_uri": "https://localhost:8080/",
          "height": 312
        }
      },
      "source": [
        "\n",
        "plt.plot(nse['HIGH'],nse['TOTTRDQTY'],color='green')\n",
        "plt.xlabel('HIGH PRICE OF THE DAY')\n",
        "plt.ylabel('TOTAL TRADED QUANTITY OF THE DAY')\n",
        "plt.title(\"COMPARISON BETWEEN HIGH PRICE & TRADED QUANTITY\")"
      ],
      "execution_count": 146,
      "outputs": [
        {
          "output_type": "execute_result",
          "data": {
            "text/plain": [
              "Text(0.5, 1.0, 'COMPARISON BETWEEN HIGH PRICE & TRADED QUANTITY')"
            ]
          },
          "metadata": {
            "tags": []
          },
          "execution_count": 146
        },
        {
          "output_type": "display_data",
          "data": {
            "image/png": "[encoded data removed]",
            "text/plain": [
              "<Figure size 432x288 with 1 Axes>"
            ]
          },
          "metadata": {
            "tags": []
          }
        }
      ]
    },
    {
      "cell_type": "markdown",
      "metadata": {
        "id": "YEC6w9RkEMc4",
        "colab_type": "text"
      },
      "source": [
        "*From the above lineplot, we can conclude that \n",
        "\n",
        "\n",
        "*   When the high price is very low,trading is weak.\n",
        "*   When the high price is normal,trading is good.\n",
        "*   When the price is increasing ,trade picks up very well.\n",
        "*   When the high price is too high,trading is again weak as many investors can't afford for it.\n",
        "\n",
        "\n",
        "\n"
      ]
    },
    {
      "cell_type": "markdown",
      "metadata": {
        "id": "Xd6_-0BtEPoo",
        "colab_type": "text"
      },
      "source": [
        "# BAR PLOT"
      ]
    },
    {
      "cell_type": "code",
      "metadata": {
        "id": "SDRA8ZXHHeaW",
        "colab_type": "code",
        "outputId": "774b1ec0-ab0c-4b14-fb65-08bc4ede1d65",
        "colab": {
          "base_uri": "https://localhost:8080/",
          "height": 204
        }
      },
      "source": [
        "nse1=nse.head(5)\n",
        "nse1"
      ],
      "execution_count": 148,
      "outputs": [
        {
          "output_type": "execute_result",
          "data": {
            "text/html": [
              "<div>\n",
              "<style scoped>\n",
              "    .dataframe tbody tr th:only-of-type {\n",
              "        vertical-align: middle;\n",
              "    }\n",
              "\n",
              "    .dataframe tbody tr th {\n",
              "        vertical-align: top;\n",
              "    }\n",
              "\n",
              "    .dataframe thead th {\n",
              "        text-align: right;\n",
              "    }\n",
              "</style>\n",
              "<table border=\"1\" class=\"dataframe\">\n",
              "  <thead>\n",
              "    <tr style=\"text-align: right;\">\n",
              "      <th></th>\n",
              "      <th>SYMBOL</th>\n",
              "      <th>SERIES</th>\n",
              "      <th>OPEN</th>\n",
              "      <th>HIGH</th>\n",
              "      <th>LOW</th>\n",
              "      <th>CLOSE</th>\n",
              "      <th>LAST</th>\n",
              "      <th>PREVCLOSE</th>\n",
              "      <th>TOTTRDQTY</th>\n",
              "      <th>TOTTRDVAL</th>\n",
              "      <th>TIMESTAMP</th>\n",
              "      <th>TOTALTRADES</th>\n",
              "      <th>ISIN</th>\n",
              "    </tr>\n",
              "  </thead>\n",
              "  <tbody>\n",
              "    <tr>\n",
              "      <th>0</th>\n",
              "      <td>20MICRONS</td>\n",
              "      <td>EQ</td>\n",
              "      <td>37.80</td>\n",
              "      <td>37.80</td>\n",
              "      <td>36.15</td>\n",
              "      <td>36.85</td>\n",
              "      <td>37.40</td>\n",
              "      <td>37.05</td>\n",
              "      <td>27130</td>\n",
              "      <td>994657.90</td>\n",
              "      <td>2017-06-28</td>\n",
              "      <td>202</td>\n",
              "      <td>INE144J01027</td>\n",
              "    </tr>\n",
              "    <tr>\n",
              "      <th>1</th>\n",
              "      <td>3IINFOTECH</td>\n",
              "      <td>EQ</td>\n",
              "      <td>4.10</td>\n",
              "      <td>4.85</td>\n",
              "      <td>4.00</td>\n",
              "      <td>4.55</td>\n",
              "      <td>4.65</td>\n",
              "      <td>4.05</td>\n",
              "      <td>20157058</td>\n",
              "      <td>92148517.65</td>\n",
              "      <td>2017-06-28</td>\n",
              "      <td>7353</td>\n",
              "      <td>INE748C01020</td>\n",
              "    </tr>\n",
              "    <tr>\n",
              "      <th>2</th>\n",
              "      <td>3MINDIA</td>\n",
              "      <td>EQ</td>\n",
              "      <td>13425.15</td>\n",
              "      <td>13469.55</td>\n",
              "      <td>12920.00</td>\n",
              "      <td>13266.70</td>\n",
              "      <td>13300.00</td>\n",
              "      <td>13460.55</td>\n",
              "      <td>2290</td>\n",
              "      <td>30304923.35</td>\n",
              "      <td>2017-06-28</td>\n",
              "      <td>748</td>\n",
              "      <td>INE470A01017</td>\n",
              "    </tr>\n",
              "    <tr>\n",
              "      <th>3</th>\n",
              "      <td>63MOONS</td>\n",
              "      <td>EQ</td>\n",
              "      <td>61.00</td>\n",
              "      <td>61.90</td>\n",
              "      <td>60.35</td>\n",
              "      <td>61.00</td>\n",
              "      <td>61.10</td>\n",
              "      <td>60.65</td>\n",
              "      <td>27701</td>\n",
              "      <td>1689421.00</td>\n",
              "      <td>2017-06-28</td>\n",
              "      <td>437</td>\n",
              "      <td>INE111B01023</td>\n",
              "    </tr>\n",
              "    <tr>\n",
              "      <th>4</th>\n",
              "      <td>8KMILES</td>\n",
              "      <td>EQ</td>\n",
              "      <td>546.10</td>\n",
              "      <td>548.00</td>\n",
              "      <td>535.00</td>\n",
              "      <td>537.45</td>\n",
              "      <td>535.20</td>\n",
              "      <td>547.45</td>\n",
              "      <td>79722</td>\n",
              "      <td>43208620.05</td>\n",
              "      <td>2017-06-28</td>\n",
              "      <td>1866</td>\n",
              "      <td>INE650K01021</td>\n",
              "    </tr>\n",
              "  </tbody>\n",
              "</table>\n",
              "</div>"
            ],
            "text/plain": [
              "       SYMBOL SERIES      OPEN  ...   TIMESTAMP  TOTALTRADES          ISIN\n",
              "0   20MICRONS     EQ     37.80  ...  2017-06-28          202  INE144J01027\n",
              "1  3IINFOTECH     EQ      4.10  ...  2017-06-28         7353  INE748C01020\n",
              "2     3MINDIA     EQ  13425.15  ...  2017-06-28          748  INE470A01017\n",
              "3     63MOONS     EQ     61.00  ...  2017-06-28          437  INE111B01023\n",
              "4     8KMILES     EQ    546.10  ...  2017-06-28         1866  INE650K01021\n",
              "\n",
              "[5 rows x 13 columns]"
            ]
          },
          "metadata": {
            "tags": []
          },
          "execution_count": 148
        }
      ]
    },
    {
      "cell_type": "code",
      "metadata": {
        "id": "t2rOZLHAHlxK",
        "colab_type": "code",
        "outputId": "d110fccc-17fa-4844-d27e-254b73c7ff0d",
        "colab": {
          "base_uri": "https://localhost:8080/",
          "height": 312
        }
      },
      "source": [
        "plt.bar(nse1['SYMBOL'],nse1['HIGH'])#plots the bar graph between two given variables.\n",
        "plt.xlabel('Symbol of the company')#labels variable on the x-axis.\n",
        "plt.ylabel('High price of the day')#labels variable on y-axis.\n",
        "plt.title('Bar plot of high price of companies on 28 june 2017')#gives the title for the graph.\n"
      ],
      "execution_count": 147,
      "outputs": [
        {
          "output_type": "execute_result",
          "data": {
            "text/plain": [
              "Text(0.5, 1.0, 'Bar plot of high price of companies on 28 june 2017')"
            ]
          },
          "metadata": {
            "tags": []
          },
          "execution_count": 147
        },
        {
          "output_type": "display_data",
          "data": {
            "image/png": "[encoded data removed]",
            "text/plain": [
              "<Figure size 432x288 with 1 Axes>"
            ]
          },
          "metadata": {
            "tags": []
          }
        }
      ]
    },
    {
      "cell_type": "markdown",
      "metadata": {
        "id": "-f1YjJhCcOOv",
        "colab_type": "text"
      },
      "source": [
        "# NATURE OF THE DATA"
      ]
    },
    {
      "cell_type": "markdown",
      "metadata": {
        "id": "V0BJkU31kCFc",
        "colab_type": "text"
      },
      "source": [
        "From the above bar plot,we can conclude that\n",
        "\n",
        "\n",
        "*   It is a normal or symmetrical distribution\n",
        "*  The reason is it is not peaked to one side.Its ascent and descent are uniform\n",
        "\n"
      ]
    },
    {
      "cell_type": "markdown",
      "metadata": {
        "id": "OQ_yyTfcQfV5",
        "colab_type": "text"
      },
      "source": [
        "# SCATTER PLOTS"
      ]
    },
    {
      "cell_type": "code",
      "metadata": {
        "id": "kpxOJMvc9ObO",
        "colab_type": "code",
        "outputId": "66d894a2-7507-4001-a2af-7d01535e6170",
        "colab": {
          "base_uri": "https://localhost:8080/",
          "height": 312
        }
      },
      "source": [
        "plt.scatter(nse['HIGH'],nse['TOTALTRADES'])#draws the scatter plot of two given variables\n",
        "plt.xlabel('HIGH PRICE')\n",
        "plt.ylabel('TOTAL TRADES')\n",
        "plt.title('SCATTER PLOT OF HIGH PRICES AND TOTAL TRADES')"
      ],
      "execution_count": 184,
      "outputs": [
        {
          "output_type": "execute_result",
          "data": {
            "text/plain": [
              "Text(0.5, 1.0, 'SCATTER PLOT OF HIGH PRICES AND TOTAL TRADES')"
            ]
          },
          "metadata": {
            "tags": []
          },
          "execution_count": 184
        },
        {
          "output_type": "display_data",
          "data": {
            "image/png": "[encoded data removed]",
            "text/plain": [
              "<Figure size 432x288 with 1 Axes>"
            ]
          },
          "metadata": {
            "tags": []
          }
        }
      ]
    },
    {
      "cell_type": "code",
      "metadata": {
        "id": "OTY7t32HAEYm",
        "colab_type": "code",
        "outputId": "182905b4-90b2-4656-f8da-40060aae2aa4",
        "colab": {
          "base_uri": "https://localhost:8080/",
          "height": 312
        }
      },
      "source": [
        "plt.scatter(nse['OPEN'],nse['CLOSE'],c='red')\n",
        "plt.xlabel('OPEN PRICE')\n",
        "plt.ylabel('CLOSING PRICE')\n",
        "plt.title('SCATTER PLOT OF OPENING AND CLOSING PRICES')"
      ],
      "execution_count": 116,
      "outputs": [
        {
          "output_type": "execute_result",
          "data": {
            "text/plain": [
              "Text(0.5, 1.0, 'SCATTER PLOT OF OPENING AND CLOSING PRICES')"
            ]
          },
          "metadata": {
            "tags": []
          },
          "execution_count": 116
        },
        {
          "output_type": "display_data",
          "data": {
            "image/png": "[encoded data removed]",
            "text/plain": [
              "<Figure size 432x288 with 1 Axes>"
            ]
          },
          "metadata": {
            "tags": []
          }
        }
      ]
    },
    {
      "cell_type": "code",
      "metadata": {
        "id": "vDixSm2yROEv",
        "colab_type": "code",
        "colab": {
          "base_uri": "https://localhost:8080/",
          "height": 282
        },
        "outputId": "7c762a81-d306-43e5-8120-a9b57bdba5e7"
      },
      "source": [
        "plt.plot(nse['TIMESTAMP'],nse['OPEN'])"
      ],
      "execution_count": 192,
      "outputs": [
        {
          "output_type": "execute_result",
          "data": {
            "text/plain": [
              "[<matplotlib.lines.Line2D at 0x7f2760d23358>]"
            ]
          },
          "metadata": {
            "tags": []
          },
          "execution_count": 192
        },
        {
          "output_type": "display_data",
          "data": {
            "image/png": "[encoded data removed]",
            "text/plain": [
              "<Figure size 432x288 with 1 Axes>"
            ]
          },
          "metadata": {
            "tags": []
          }
        }
      ]
    },
    {
      "cell_type": "markdown",
      "metadata": {
        "id": "4uS6yX85K6sf",
        "colab_type": "text"
      },
      "source": [
        "*From the above plot,we can*\n",
        " *compare high prices of stocks of different companies*\n",
        "\n",
        "\n"
      ]
    },
    {
      "cell_type": "markdown",
      "metadata": {
        "id": "k26zn2RXvo0Z",
        "colab_type": "text"
      },
      "source": [
        "##**ANSWERS**\n",
        "\n",
        "\n",
        "---\n",
        "\n",
        "\n",
        "\n",
        "\n"
      ]
    },
    {
      "cell_type": "markdown",
      "metadata": {
        "id": "A6I9ZSbEwBgQ",
        "colab_type": "text"
      },
      "source": [
        "## QUESTION1\n",
        "\n",
        "\n",
        "*   TO FIND THE SYMBOLS OR COMPANIES IN THE DATA.\n",
        "\n"
      ]
    },
    {
      "cell_type": "code",
      "metadata": {
        "id": "4UpCdk1xwhcB",
        "colab_type": "code",
        "colab": {
          "base_uri": "https://localhost:8080/",
          "height": 68
        },
        "outputId": "5538cd14-8f27-46f7-aa8d-03a4d0353782"
      },
      "source": [
        "print(len(np.unique(nse['SYMBOL'])))\n",
        "np.unique(nse['SYMBOL'])\n",
        "#prints the companies present in the data"
      ],
      "execution_count": 138,
      "outputs": [
        {
          "output_type": "stream",
          "text": [
            "2037\n"
          ],
          "name": "stdout"
        },
        {
          "output_type": "execute_result",
          "data": {
            "text/plain": [
              "array(['20MICRONS', '3IINFOTECH', '3MINDIA', ..., 'ZUARIGLOB',\n",
              "       'ZYDUSWELL', 'ZYLOG'], dtype=object)"
            ]
          },
          "metadata": {
            "tags": []
          },
          "execution_count": 138
        }
      ]
    },
    {
      "cell_type": "markdown",
      "metadata": {
        "id": "Rc0OXol74fVi",
        "colab_type": "text"
      },
      "source": [
        "## QUESTION 2\n",
        "\n",
        "\n",
        "\n",
        "*   To find the company with highest trading quantity of a day and its value in the data.\n",
        "\n",
        "\n",
        "\n"
      ]
    },
    {
      "cell_type": "code",
      "metadata": {
        "id": "wj-3cUeP3BHQ",
        "colab_type": "code",
        "colab": {
          "base_uri": "https://localhost:8080/",
          "height": 51
        },
        "outputId": "5cf16d75-8f39-464d-ffc3-98aaf40df39a"
      },
      "source": [
        "print(nse['SYMBOL'].loc[nse['TOTTRDQTY'].min()])\n",
        "nse['TOTTRDQTY'].max()"
      ],
      "execution_count": 133,
      "outputs": [
        {
          "output_type": "stream",
          "text": [
            "3IINFOTECH\n"
          ],
          "name": "stdout"
        },
        {
          "output_type": "execute_result",
          "data": {
            "text/plain": [
              "781836478"
            ]
          },
          "metadata": {
            "tags": []
          },
          "execution_count": 133
        }
      ]
    },
    {
      "cell_type": "markdown",
      "metadata": {
        "id": "LEckeKjO9FRx",
        "colab_type": "text"
      },
      "source": [
        "# QUESTION 3\n",
        "\n",
        "\n",
        "*  To find the company with least high value.\n",
        "\n"
      ]
    },
    {
      "cell_type": "code",
      "metadata": {
        "id": "RZvvaYTs9DaE",
        "colab_type": "code",
        "colab": {
          "base_uri": "https://localhost:8080/",
          "height": 34
        },
        "outputId": "5388f5be-5082-467b-b226-637f3c478f12"
      },
      "source": [
        "nse['SYMBOL'].loc[nse['HIGH'].idxmin()]\n"
      ],
      "execution_count": 132,
      "outputs": [
        {
          "output_type": "execute_result",
          "data": {
            "text/plain": [
              "'FARMAXIND'"
            ]
          },
          "metadata": {
            "tags": []
          },
          "execution_count": 132
        }
      ]
    },
    {
      "cell_type": "markdown",
      "metadata": {
        "id": "x7kj1bGS-iJO",
        "colab_type": "text"
      },
      "source": [
        "# QUESTION 4\n",
        "\n",
        "\n",
        "*   Find the number of types of values of equity series.\n",
        "\n"
      ]
    },
    {
      "cell_type": "code",
      "metadata": {
        "id": "CGdGmKB3-0cU",
        "colab_type": "code",
        "colab": {
          "base_uri": "https://localhost:8080/",
          "height": 153
        },
        "outputId": "7bf34a7d-8f39-47c2-c054-c15b9e6eaf9f"
      },
      "source": [
        "print(len(np.unique(nse['SERIES'])))\n",
        "np.unique(nse['SERIES'])\n"
      ],
      "execution_count": 136,
      "outputs": [
        {
          "output_type": "stream",
          "text": [
            "71\n"
          ],
          "name": "stdout"
        },
        {
          "output_type": "execute_result",
          "data": {
            "text/plain": [
              "array(['BE', 'BL', 'BT', 'BZ', 'D1', 'DR', 'EQ', 'GB', 'H6', 'HA', 'HB',\n",
              "       'HC', 'HE', 'IL', 'IT', 'IV', 'MF', 'N1', 'N2', 'N3', 'N4', 'N5',\n",
              "       'N6', 'N7', 'N8', 'N9', 'NB', 'NC', 'ND', 'NE', 'NF', 'NG', 'NH',\n",
              "       'NI', 'NJ', 'NK', 'NL', 'NM', 'NN', 'NO', 'NP', 'NQ', 'NR', 'NS',\n",
              "       'NT', 'NU', 'NV', 'NW', 'NX', 'NY', 'NZ', 'P1', 'P2', 'Q1', 'Q2',\n",
              "       'SM', 'W2', 'Y1', 'Y2', 'Y3', 'Y4', 'Y5', 'Y6', 'Y7', 'Y8', 'Y9',\n",
              "       'YA', 'YB', 'YC', 'YD', 'YG'], dtype=object)"
            ]
          },
          "metadata": {
            "tags": []
          },
          "execution_count": 136
        }
      ]
    },
    {
      "cell_type": "markdown",
      "metadata": {
        "id": "XiQoIOYSAOte",
        "colab_type": "text"
      },
      "source": [
        "# QUESTION 5\n",
        "\n",
        "\n",
        "*   To find the count of each kind of value of equity series.\n",
        "\n"
      ]
    },
    {
      "cell_type": "code",
      "metadata": {
        "id": "yVlUHe65Ag_w",
        "colab_type": "code",
        "colab": {
          "base_uri": "https://localhost:8080/",
          "height": 221
        },
        "outputId": "110501ea-79b7-4d82-f210-1d6c360a5e1c"
      },
      "source": [
        "nse['SERIES'].value_counts()"
      ],
      "execution_count": 141,
      "outputs": [
        {
          "output_type": "execute_result",
          "data": {
            "text/plain": [
              "EQ    741656\n",
              "BE     37428\n",
              "SM     11229\n",
              "N6      5080\n",
              "N2      4828\n",
              "       ...  \n",
              "H6         7\n",
              "HB         7\n",
              "HA         1\n",
              "BT         1\n",
              "HE         1\n",
              "Name: SERIES, Length: 71, dtype: int64"
            ]
          },
          "metadata": {
            "tags": []
          },
          "execution_count": 141
        }
      ]
    },
    {
      "cell_type": "markdown",
      "metadata": {
        "id": "BpvnYCHJCDTl",
        "colab_type": "text"
      },
      "source": [
        "# QUESTION 6\n",
        "\n",
        "\n",
        "*  To find the highest low market price and the company which achieved it. \n",
        "\n"
      ]
    },
    {
      "cell_type": "code",
      "metadata": {
        "id": "cWAZtUWJCh1i",
        "colab_type": "code",
        "colab": {
          "base_uri": "https://localhost:8080/",
          "height": 51
        },
        "outputId": "9b5246cf-af9d-4d9e-af76-c6fd1bdcb090"
      },
      "source": [
        "print(nse['SYMBOL'].loc[nse['LOW'].idxmax()])\n",
        "nse['LOW'].max()"
      ],
      "execution_count": 144,
      "outputs": [
        {
          "output_type": "stream",
          "text": [
            "PEL\n"
          ],
          "name": "stdout"
        },
        {
          "output_type": "execute_result",
          "data": {
            "text/plain": [
              "119990.0"
            ]
          },
          "metadata": {
            "tags": []
          },
          "execution_count": 144
        }
      ]
    },
    {
      "cell_type": "markdown",
      "metadata": {
        "id": "cr2UAT9xFKoW",
        "colab_type": "text"
      },
      "source": [
        "# QUESTION 7\n",
        "\n",
        "\n",
        "*   To find the ISIN codes corresponding to company with symbol 'BANKINDIA'.\n",
        "\n"
      ]
    },
    {
      "cell_type": "code",
      "metadata": {
        "id": "HC44ynHPFHy2",
        "colab_type": "code",
        "colab": {
          "base_uri": "https://localhost:8080/",
          "height": 221
        },
        "outputId": "051ed99d-f25c-4b64-c5cd-82a241cc520d"
      },
      "source": [
        "\n",
        "print(nse['ISIN'].loc[nse['SYMBOL']=='BANKINDIA'])\n"
      ],
      "execution_count": 169,
      "outputs": [
        {
          "output_type": "stream",
          "text": [
            "162       INE084A01016\n",
            "1911      INE084A01016\n",
            "3724      INE084A01016\n",
            "5459      INE084A01016\n",
            "7204      INE084A01016\n",
            "              ...     \n",
            "838139    INE084A01016\n",
            "839773    INE084A01016\n",
            "841396    INE084A01016\n",
            "843019    INE084A01016\n",
            "844728    INE084A01016\n",
            "Name: ISIN, Length: 495, dtype: object\n"
          ],
          "name": "stdout"
        }
      ]
    },
    {
      "cell_type": "markdown",
      "metadata": {
        "id": "VEkoDelTfn1W",
        "colab_type": "text"
      },
      "source": [
        "# QUESTION 8\n",
        "\n",
        "\n",
        "*  To find the highest closing market price on the date of 2017-11-28. \n",
        "\n"
      ]
    },
    {
      "cell_type": "code",
      "metadata": {
        "id": "4fzWXP9lWoHp",
        "colab_type": "code",
        "colab": {
          "base_uri": "https://localhost:8080/",
          "height": 34
        },
        "outputId": "b4d5997b-d7f2-4fe7-f955-b07413e4444e"
      },
      "source": [
        "n=nse['CLOSE'].loc[nse['TIMESTAMP']=='2017-11-28'].idxmax()\n",
        "nse['CLOSE'].loc[n]"
      ],
      "execution_count": 198,
      "outputs": [
        {
          "output_type": "execute_result",
          "data": {
            "text/plain": [
              "114000.0"
            ]
          },
          "metadata": {
            "tags": []
          },
          "execution_count": 198
        }
      ]
    },
    {
      "cell_type": "markdown",
      "metadata": {
        "id": "_NN57CS7gdIZ",
        "colab_type": "text"
      },
      "source": [
        "# QUESTION 9\n",
        "\n",
        "\n",
        "*   To find the company which has achieved the highest opening market price on 2017-6-28?\n",
        "\n"
      ]
    },
    {
      "cell_type": "code",
      "metadata": {
        "id": "fivRYnNThPwb",
        "colab_type": "code",
        "colab": {
          "base_uri": "https://localhost:8080/",
          "height": 34
        },
        "outputId": "3fabe0ed-0011-4819-b0bc-4326954d5333"
      },
      "source": [
        "nse['SYMBOL'].loc[nse['OPEN'].max()]"
      ],
      "execution_count": 199,
      "outputs": [
        {
          "output_type": "execute_result",
          "data": {
            "text/plain": [
              "'VOLTAMP'"
            ]
          },
          "metadata": {
            "tags": []
          },
          "execution_count": 199
        }
      ]
    },
    {
      "cell_type": "markdown",
      "metadata": {
        "id": "PCMBLYMbqNQ-",
        "colab_type": "text"
      },
      "source": [
        "# QUESTION 10\n",
        "\n",
        "\n",
        "*   To get the stock exchange data of the company '3MINDIA' in the whole data.\n",
        "\n"
      ]
    },
    {
      "cell_type": "code",
      "metadata": {
        "id": "tmGkb0uKlgXP",
        "colab_type": "code",
        "colab": {
          "base_uri": "https://localhost:8080/",
          "height": 255
        },
        "outputId": "3fce17a6-e75d-436c-e959-cd73f6ab6f30"
      },
      "source": [
        "A=nse.loc[nse['SYMBOL']=='3MINDIA']\n",
        "print(A)"
      ],
      "execution_count": 202,
      "outputs": [
        {
          "output_type": "stream",
          "text": [
            "         SYMBOL SERIES      OPEN  ...   TIMESTAMP  TOTALTRADES          ISIN\n",
            "2       3MINDIA     EQ  13425.15  ...  2017-06-28          748  INE470A01017\n",
            "1740    3MINDIA     EQ  15780.00  ...  2017-11-28          460  INE470A01017\n",
            "3567    3MINDIA     EQ  11298.75  ...  2017-02-28           75  INE470A01017\n",
            "5294    3MINDIA     EQ  11602.25  ...  2017-04-28          191  INE470A01017\n",
            "7044    3MINDIA     EQ  11052.05  ...  2017-03-20          155  INE470A01017\n",
            "...         ...    ...       ...  ...         ...          ...           ...\n",
            "837986  3MINDIA     EQ  12400.00  ...  2016-06-08          204  INE470A01017\n",
            "839620  3MINDIA     EQ  10799.95  ...  2016-03-15          125  INE470A01017\n",
            "841244  3MINDIA     EQ  10497.00  ...  2016-04-08          551  INE470A01017\n",
            "842862  3MINDIA     EQ  13225.00  ...  2016-09-23          346  INE470A01017\n",
            "844556  3MINDIA     EQ  19499.45  ...  2017-12-29          851  INE470A01017\n",
            "\n",
            "[495 rows x 13 columns]\n"
          ],
          "name": "stdout"
        }
      ]
    },
    {
      "cell_type": "code",
      "metadata": {
        "id": "SF9Tz_IjqqIy",
        "colab_type": "code",
        "colab": {
          "base_uri": "https://localhost:8080/",
          "height": 297
        },
        "outputId": "9998c1e9-0577-4981-b132-bb813da579d5"
      },
      "source": [
        "plt.plot(A['TIMESTAMP'],A['OPEN'],color='green',label='opening price')\n",
        "plt.plot(A['TIMESTAMP'],A['CLOSE'],color='red',label='closing price')\n",
        "plt.xlabel('time')\n",
        "plt.ylabel('market price of the stock')\n",
        "plt.legend()"
      ],
      "execution_count": 208,
      "outputs": [
        {
          "output_type": "execute_result",
          "data": {
            "text/plain": [
              "<matplotlib.legend.Legend at 0x7f2748e594a8>"
            ]
          },
          "metadata": {
            "tags": []
          },
          "execution_count": 208
        },
        {
          "output_type": "display_data",
          "data": {
            "image/png": "[encoded data removed]",
            "text/plain": [
              "<Figure size 432x288 with 1 Axes>"
            ]
          },
          "metadata": {
            "tags": []
          }
        }
      ]
    },
    {
      "cell_type": "markdown",
      "metadata": {
        "id": "BZEsMfyfWVlk",
        "colab_type": "text"
      },
      "source": [
        "# CONCLUSION\n",
        "\n",
        "---\n",
        "From this Data Exploratory Analysis,we learnt how to access the data we want so that we can analyse it.\n",
        "We can interpret and understand even the huge chunks of data through data visualisation.\n",
        "Our analysis will be useful for future predictions.\n",
        "\n",
        "Moreover,we gained some of the basic knowledge of stock market functioning.\n",
        "We got to know the power of data visualisation and data analysis.\n"
      ]
    },
    {
      "cell_type": "markdown",
      "metadata": {
        "id": "GNz2dhc57Pih",
        "colab_type": "text"
      },
      "source": [
        "# \"BRAINSTORMERS\" Team members Details\n",
        "\n",
        "---\n",
        "\n",
        "\n",
        "\n",
        "1.   **M.SESHA SAI ANJANEYA**       19PA1A05A1     *CSE-B*\n",
        "2.   **M V V S S VARA PRASAD**      19PA1A0595     *CSE-B*\n",
        "1.  **K CHIRANJEEVI**               19PA1A0584     *CSE-B*\n",
        "2.   **K SUMANTH**                  19PA1A0579     *CSE-B*\n",
        "\n",
        "\n",
        "\n"
      ]
    }
  ]
}